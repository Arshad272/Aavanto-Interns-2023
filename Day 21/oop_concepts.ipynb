{
 "cells": [
  {
   "cell_type": "code",
   "execution_count": 8,
   "metadata": {},
   "outputs": [
    {
     "name": "stdout",
     "output_type": "stream",
     "text": [
      "parent class\n"
     ]
    }
   ],
   "source": [
    "# Types of inheritance\n",
    "\n",
    "# 1.single inheritance\n",
    "\n",
    "class parent:\n",
    "    def display(self):\n",
    "        print('parent class')\n",
    "\n",
    "class child(parent):\n",
    "    pass\n",
    "\n",
    "x = child()\n",
    "x.display()\n"
   ]
  },
  {
   "cell_type": "code",
   "execution_count": 11,
   "metadata": {},
   "outputs": [
    {
     "name": "stdout",
     "output_type": "stream",
     "text": [
      "adds two numbers\n",
      "substracts two numbers\n"
     ]
    }
   ],
   "source": [
    "# multiple inheritance\n",
    "\n",
    "class addi:\n",
    "    def addition(self):\n",
    "        print('adds two numbers')\n",
    "\n",
    "class sub:\n",
    "    def substraction(self):\n",
    "        print('substracts two numbers')\n",
    "\n",
    "class calculator(addi,sub):\n",
    "    pass\n",
    "\n",
    "calc = calculator()\n",
    "calc.addition()\n",
    "calc.substraction()"
   ]
  },
  {
   "cell_type": "code",
   "execution_count": 13,
   "metadata": {},
   "outputs": [
    {
     "name": "stdout",
     "output_type": "stream",
     "text": [
      "parent class\n"
     ]
    }
   ],
   "source": [
    "#multi level inheritance\n",
    "\n",
    "class parent:\n",
    "    def parent(self):\n",
    "        print(\"parent class\")\n",
    "\n",
    "class child(parent):\n",
    "    def child(self):\n",
    "        print(\"child class\")\n",
    "\n",
    "\n",
    "class grandchild(child):\n",
    "    def grandchild(self):\n",
    "        print(\"granchild class\")\n",
    "\n",
    "\n",
    "x = grandchild()\n",
    "x.parent()\n",
    "\n"
   ]
  },
  {
   "cell_type": "code",
   "execution_count": 15,
   "metadata": {},
   "outputs": [
    {
     "name": "stdout",
     "output_type": "stream",
     "text": [
      "base class\n",
      "base class\n"
     ]
    }
   ],
   "source": [
    "# herarchial inheritance\n",
    "\n",
    "class base:\n",
    "    def base_class(self):\n",
    "        print(\"base class\")\n",
    "\n",
    "class child1(base):\n",
    "    def child1(self):\n",
    "        print(\"child class\")\n",
    "\n",
    "class child2(base):\n",
    "    def child2(self):\n",
    "        print(\"child class\")\n",
    "\n",
    "x1 = child1()\n",
    "x2 = child2()\n",
    "x1.base_class()\n",
    "x2.base_class()\n"
   ]
  },
  {
   "cell_type": "code",
   "execution_count": 6,
   "metadata": {},
   "outputs": [
    {
     "name": "stdout",
     "output_type": "stream",
     "text": [
      "100\n",
      "12.56\n"
     ]
    }
   ],
   "source": [
    "#abstraction\n",
    "\n",
    "from abc import ABC,abstractmethod\n",
    "\n",
    "class shape(ABC):\n",
    "    @abstractmethod\n",
    "    def area(self):\n",
    "        pass\n",
    "\n",
    "class square(shape):\n",
    "    def __init__(self,side):\n",
    "        self.side = side\n",
    "\n",
    "    def area(self):\n",
    "        return self.side**2\n",
    "\n",
    "\n",
    "class circle(shape):\n",
    "    def __init__(self,r):\n",
    "        self.r = r\n",
    "\n",
    "    def area(self):\n",
    "        return 3.14*self.r**2\n",
    "    \n",
    "\n",
    "c = circle(2)\n",
    "print(c.area())\n"
   ]
  },
  {
   "cell_type": "code",
   "execution_count": 13,
   "metadata": {},
   "outputs": [
    {
     "name": "stdout",
     "output_type": "stream",
     "text": [
      "ram\n",
      "private variable\n"
     ]
    }
   ],
   "source": [
    "#encapsulation\n",
    "\n",
    "class encpas:\n",
    "    s = 'hello'\n",
    "    __p = 'private variable'\n",
    "\n",
    "    def __init__(self,name=None):\n",
    "        self.name = name\n",
    "    \n",
    "    def display(self):\n",
    "        print(self.name)\n",
    "        print(self.__p)\n",
    "\n",
    "x = encpas('ram')\n",
    "x.display()\n",
    "\n"
   ]
  },
  {
   "cell_type": "code",
   "execution_count": 24,
   "metadata": {},
   "outputs": [
    {
     "name": "stdout",
     "output_type": "stream",
     "text": [
      "24\n"
     ]
    }
   ],
   "source": [
    "# polymorphism\n",
    "\n",
    "#poly = many morph = forms\n",
    "\n",
    "#compile time polymorphism\n",
    "\n",
    "#method overloading \n",
    "def compile_time(*args):\n",
    "    if len(args) == 1:\n",
    "        print(args[0])\n",
    "\n",
    "    if len(args) == 2:\n",
    "        print(sum(args))\n",
    "\n",
    "compile_time(1,23)"
   ]
  },
  {
   "cell_type": "code",
   "execution_count": 25,
   "metadata": {},
   "outputs": [
    {
     "name": "stdout",
     "output_type": "stream",
     "text": [
      "meow\n",
      "bow\n"
     ]
    }
   ],
   "source": [
    "#run time polymorphism \n",
    "\n",
    "#method over riding\n",
    "class cat:\n",
    "    def sound(self):\n",
    "        print('meow')\n",
    "\n",
    "class dog(cat):\n",
    "    def sound(self):\n",
    "        print('bow')\n",
    "\n",
    "\n",
    "c = cat()\n",
    "c.sound()\n",
    "\n",
    "d = dog()\n",
    "d.sound()\n"
   ]
  },
  {
   "cell_type": "code",
   "execution_count": 27,
   "metadata": {},
   "outputs": [
    {
     "name": "stdout",
     "output_type": "stream",
     "text": [
      "message 2\n"
     ]
    }
   ],
   "source": [
    "\n",
    "#example \n",
    "class example:\n",
    "    def display(self):\n",
    "        print('message 1')\n",
    "\n",
    "class example2(example):\n",
    "    def display(self):\n",
    "        print('message 2')\n",
    "\n",
    "x = example2()\n",
    "x.display()"
   ]
  },
  {
   "cell_type": "code",
   "execution_count": 31,
   "metadata": {},
   "outputs": [
    {
     "name": "stdout",
     "output_type": "stream",
     "text": [
      "123\n"
     ]
    }
   ],
   "source": [
    "def example(*args):\n",
    "    if len(args) == 1:\n",
    "        print(args[0]**2)\n",
    "\n",
    "    if len(args) == 2:\n",
    "        print(sum(args))\n",
    "\n",
    "    if len(args) == 3:\n",
    "        print(max(args)) \n",
    "    \n",
    "example(123,1,2)"
   ]
  },
  {
   "cell_type": "code",
   "execution_count": null,
   "metadata": {},
   "outputs": [],
   "source": []
  }
 ],
 "metadata": {
  "kernelspec": {
   "display_name": "Python 3",
   "language": "python",
   "name": "python3"
  },
  "language_info": {
   "codemirror_mode": {
    "name": "ipython",
    "version": 3
   },
   "file_extension": ".py",
   "mimetype": "text/x-python",
   "name": "python",
   "nbconvert_exporter": "python",
   "pygments_lexer": "ipython3",
   "version": "3.11.4"
  }
 },
 "nbformat": 4,
 "nbformat_minor": 2
}
